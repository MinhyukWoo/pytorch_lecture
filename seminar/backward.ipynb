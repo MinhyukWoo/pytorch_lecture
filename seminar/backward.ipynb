{
 "cells": [
  {
   "cell_type": "code",
   "execution_count": 13,
   "metadata": {},
   "outputs": [],
   "source": [
    "from torchvision.datasets import MNIST\n",
    "from torchvision import transforms\n",
    "import torch\n",
    "import os\n",
    "\n",
    "train_data = MNIST(\n",
    "    root=os.path.join(\"dataset\", \"mnist\"),\n",
    "    train=True,\n",
    "    download=True,\n",
    "    transform=transforms.ToTensor(),\n",
    ")\n",
    "test_data = MNIST(\n",
    "    root=os.path.join(\"dataset\", \"mnist\"),\n",
    "    train=False,\n",
    "    download=True,\n",
    "    transform=transforms.ToTensor(),\n",
    ")\n",
    "device = torch.device(\"cuda\" if torch.cuda.is_available() else \"cpu\")\n"
   ]
  },
  {
   "cell_type": "code",
   "execution_count": 20,
   "metadata": {},
   "outputs": [
    {
     "data": {
      "text/plain": [
       "Model(\n",
       "  (layer1): Linear(in_features=784, out_features=256, bias=True)\n",
       "  (layer2): Linear(in_features=256, out_features=128, bias=True)\n",
       "  (layer3): Linear(in_features=128, out_features=64, bias=True)\n",
       "  (layer4): Linear(in_features=64, out_features=10, bias=True)\n",
       ")"
      ]
     },
     "execution_count": 20,
     "metadata": {},
     "output_type": "execute_result"
    }
   ],
   "source": [
    "import torch\n",
    "from torch import nn\n",
    "from collections import OrderedDict\n",
    "\n",
    "\n",
    "class Model(nn.Module):\n",
    "    def __init__(self, in_features, out_features=10) -> None:\n",
    "        super().__init__()\n",
    "        self.in_features = in_features\n",
    "        self.layer1 = nn.Linear(in_features=self.in_features, out_features=256)\n",
    "        self.layer2 = nn.Linear(in_features=256, out_features=128)\n",
    "        self.layer3 = nn.Linear(in_features=128, out_features=64)\n",
    "        self.layer4 = nn.Linear(in_features=64, out_features=10)\n",
    "\n",
    "    def forward(self, x: torch.Tensor):\n",
    "        x = x.view(-1, self.in_features)\n",
    "        x = self.layer1(x)\n",
    "        x = nn.functional.relu(x)\n",
    "        x = self.layer2(x)\n",
    "        x = nn.functional.relu(x)\n",
    "        x = self.layer3(x)\n",
    "        x = nn.functional.relu(x)\n",
    "        x = self.layer4(x)\n",
    "        return x\n",
    "\n",
    "\n",
    "model = Model(28 * 28).to(device=device)\n",
    "model\n"
   ]
  },
  {
   "cell_type": "code",
   "execution_count": 21,
   "metadata": {},
   "outputs": [],
   "source": [
    "from torch import optim\n",
    "\n",
    "optimizer = optim.Adam(model.parameters())\n",
    "criterion = nn.CrossEntropyLoss()\n"
   ]
  },
  {
   "cell_type": "code",
   "execution_count": 22,
   "metadata": {},
   "outputs": [],
   "source": [
    "from torch.utils.data import DataLoader\n",
    "\n",
    "data_loader = DataLoader(\n",
    "    dataset=train_data, batch_size=64, shuffle=True, drop_last=True\n",
    ")\n"
   ]
  },
  {
   "cell_type": "code",
   "execution_count": 34,
   "metadata": {},
   "outputs": [
    {
     "name": "stdout",
     "output_type": "stream",
     "text": [
      "epoch   1: 0.009460562840104103\n",
      "epoch   2: 0.04853010177612305\n",
      "epoch   3: 0.04203240945935249\n"
     ]
    }
   ],
   "source": [
    "epochs = 3\n",
    "for epoch in range(1, epochs + 1):\n",
    "    for X, y in data_loader:\n",
    "        X = X.to(device=device)\n",
    "        y = y.to(device=device)\n",
    "\n",
    "        train_preds = model(X)\n",
    "        loss = criterion(train_preds, y)\n",
    "        loss.backward()\n",
    "        optimizer.step()\n",
    "        optimizer.zero_grad()\n",
    "    print(f\"epoch {epoch:3}: {loss.item()}\")\n"
   ]
  },
  {
   "cell_type": "code",
   "execution_count": 35,
   "metadata": {},
   "outputs": [
    {
     "name": "stdout",
     "output_type": "stream",
     "text": [
      "              precision    recall  f1-score   support\n",
      "\n",
      "           0     0.9929    0.9838    0.9883       989\n",
      "           1     0.9912    0.9903    0.9908      1136\n",
      "           2     0.9835    0.9769    0.9802      1039\n",
      "           3     0.9851    0.9595    0.9722      1037\n",
      "           4     0.9817    0.9787    0.9802       985\n",
      "           5     0.9641    0.9729    0.9685       884\n",
      "           6     0.9666    0.9914    0.9789       934\n",
      "           7     0.9864    0.9750    0.9807      1040\n",
      "           8     0.9682    0.9843    0.9762       958\n",
      "           9     0.9713    0.9820    0.9766       998\n",
      "\n",
      "    accuracy                         0.9795     10000\n",
      "   macro avg     0.9791    0.9795    0.9792     10000\n",
      "weighted avg     0.9796    0.9795    0.9795     10000\n",
      "\n"
     ]
    }
   ],
   "source": [
    "test_preds = model(test_data.data.to(device=device, dtype=torch.float))\n",
    "test_labels = test_data.targets\n",
    "from sklearn.metrics import classification_report\n",
    "\n",
    "print(\n",
    "    classification_report(\n",
    "        test_preds.to(device=\"cpu\").detach().numpy().argmax(axis=1),\n",
    "        test_labels,\n",
    "        digits=4,\n",
    "    )\n",
    ")\n"
   ]
  },
  {
   "cell_type": "markdown",
   "metadata": {},
   "source": [
    "https://pytorch.org/tutorials/beginner/blitz/neural_networks_tutorial.html\n"
   ]
  },
  {
   "cell_type": "code",
   "execution_count": 49,
   "metadata": {},
   "outputs": [
    {
     "name": "stdout",
     "output_type": "stream",
     "text": [
      "==========\n",
      "weight: tensor([-0.0327,  0.0330, -0.0311,  0.0176, -0.0032], grad_fn=<SliceBackward0>)\n",
      "weight.grad: tensor([0., 0., 0., 0., 0.])\n",
      "==========\n",
      "weight: tensor([-0.1657,  0.0672, -0.0361,  0.1261, -0.0182], grad_fn=<SliceBackward0>)\n",
      "weight.grad: tensor([-1.4438e-06,  1.4810e-02, -1.4210e-05,  1.2742e-02,  0.0000e+00])\n",
      "==========\n",
      "weight: tensor([ 0.0395,  0.0097, -0.0126, -0.0770, -0.0158], grad_fn=<SliceBackward0>)\n",
      "weight.grad: tensor([-4.3883e-04, -2.3837e-03,  0.0000e+00, -4.3627e-06,  9.6070e-11])\n",
      "==========\n",
      "weight: tensor([ 0.1217,  0.0398, -0.1383, -0.1216, -0.0594], grad_fn=<SliceBackward0>)\n",
      "weight.grad: tensor([0.0906, 0.0168, 0.0180, 0.0000, 0.0048])\n"
     ]
    }
   ],
   "source": [
    "def print_weights(*weights):\n",
    "    for weight in weights:\n",
    "        print(\"=\" * 10)\n",
    "        print(\"weight:\", weight[0, :5])\n",
    "        print(\"weight.grad:\", weight.grad[0, :5])\n",
    "\n",
    "\n",
    "for X, y in data_loader:\n",
    "    X = X.to(device=device)\n",
    "    y = y.to(device=device)\n",
    "\n",
    "    train_preds = model(X)\n",
    "    loss = criterion(train_preds, y)\n",
    "    loss.backward()\n",
    "    print_weights(\n",
    "        model.layer1.weight,\n",
    "        model.layer2.weight,\n",
    "        model.layer3.weight,\n",
    "        model.layer4.weight,\n",
    "    )\n",
    "    break\n"
   ]
  }
 ],
 "metadata": {
  "kernelspec": {
   "display_name": "Python 3.9.13 ('pytorch')",
   "language": "python",
   "name": "python3"
  },
  "language_info": {
   "codemirror_mode": {
    "name": "ipython",
    "version": 3
   },
   "file_extension": ".py",
   "mimetype": "text/x-python",
   "name": "python",
   "nbconvert_exporter": "python",
   "pygments_lexer": "ipython3",
   "version": "3.9.13"
  },
  "orig_nbformat": 4,
  "vscode": {
   "interpreter": {
    "hash": "9e8b8adcd60e3125d3846633b1286e68149d6edb0e860e6f97e15020191dc869"
   }
  }
 },
 "nbformat": 4,
 "nbformat_minor": 2
}
