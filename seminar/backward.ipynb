{
 "cells": [
  {
   "cell_type": "code",
   "execution_count": 3,
   "metadata": {},
   "outputs": [],
   "source": [
    "from torchvision.datasets import MNIST\n",
    "from torchvision import transforms\n",
    "import torch\n",
    "import os\n",
    "\n",
    "train_data = MNIST(\n",
    "    root=os.path.join(\"dataset\", \"mnist\"),\n",
    "    train=True,\n",
    "    download=True,\n",
    "    transform=transforms.ToTensor(),\n",
    ")\n",
    "test_data = MNIST(\n",
    "    root=os.path.join(\"dataset\", \"mnist\"),\n",
    "    train=False,\n",
    "    download=True,\n",
    "    transform=transforms.ToTensor(),\n",
    ")\n",
    "device = torch.device(\"cuda\" if torch.cuda.is_available() else \"cpu\")"
   ]
  },
  {
   "cell_type": "code",
   "execution_count": 4,
   "metadata": {},
   "outputs": [
    {
     "data": {
      "text/plain": [
       "Model(\n",
       "  (layer1): Linear(in_features=784, out_features=256, bias=True)\n",
       "  (layer2): Linear(in_features=256, out_features=128, bias=True)\n",
       "  (layer3): Linear(in_features=128, out_features=64, bias=True)\n",
       "  (layer4): Linear(in_features=64, out_features=10, bias=True)\n",
       ")"
      ]
     },
     "execution_count": 4,
     "metadata": {},
     "output_type": "execute_result"
    }
   ],
   "source": [
    "import torch\n",
    "from torch import nn\n",
    "from collections import OrderedDict\n",
    "\n",
    "class Model(nn.Module):\n",
    "    def __init__(self, in_features, out_features=10) -> None:\n",
    "        super().__init__()\n",
    "        self.in_features = in_features\n",
    "        self.layer1 = nn.Linear(in_features=self.in_features, out_features=256)\n",
    "        self.layer2 = nn.Linear(in_features=256, out_features=128)\n",
    "        self.layer3 = nn.Linear(in_features=128, out_features=64)\n",
    "        self.layer4 = nn.Linear(in_features=64, out_features=10)\n",
    "\n",
    "    def forward(self, x: torch.Tensor):\n",
    "        x = x.view(-1, self.in_features)\n",
    "        x = self.layer1(x)\n",
    "        x = nn.functional.relu(x)\n",
    "        x = self.layer2(x)\n",
    "        x = nn.functional.relu(x)\n",
    "        x = self.layer3(x)\n",
    "        x = nn.functional.relu(x)\n",
    "        x = self.layer4(x)\n",
    "        return x\n",
    "\n",
    "\n",
    "model = Model(28 * 28).to(device=device)\n",
    "model\n"
   ]
  },
  {
   "cell_type": "code",
   "execution_count": 5,
   "metadata": {},
   "outputs": [],
   "source": [
    "from torch import optim\n",
    "optimizer = optim.Adam(model.parameters())\n",
    "criterion = nn.CrossEntropyLoss()\n"
   ]
  },
  {
   "cell_type": "code",
   "execution_count": 6,
   "metadata": {},
   "outputs": [],
   "source": [
    "from torch.utils.data import DataLoader\n",
    "\n",
    "data_loader = DataLoader(\n",
    "    dataset=train_data, batch_size=64, shuffle=True, drop_last=True\n",
    ")\n"
   ]
  },
  {
   "cell_type": "code",
   "execution_count": 7,
   "metadata": {},
   "outputs": [
    {
     "name": "stdout",
     "output_type": "stream",
     "text": [
      "epoch   1: 0.278544545173645\n",
      "epoch   2: 0.10389763116836548\n",
      "epoch   3: 0.007537279278039932\n",
      "epoch   4: 0.03480694815516472\n",
      "epoch   5: 0.09433475881814957\n",
      "epoch   6: 0.005727361887693405\n",
      "epoch   7: 0.0313013531267643\n",
      "epoch   8: 0.07200540602207184\n",
      "epoch   9: 0.11212671548128128\n",
      "epoch  10: 0.07564185559749603\n"
     ]
    }
   ],
   "source": [
    "epochs = 10\n",
    "for epoch in range(1, epochs + 1):\n",
    "    for X, y in data_loader:\n",
    "        X = X.to(device=device)\n",
    "        y = y.to(device=device)\n",
    "\n",
    "        train_preds = model(X)\n",
    "        loss = criterion(train_preds, y)\n",
    "        loss.backward()\n",
    "        optimizer.step()\n",
    "        optimizer.zero_grad()\n",
    "    print(f\"epoch {epoch:3}: {loss.item()}\")\n"
   ]
  },
  {
   "cell_type": "code",
   "execution_count": 10,
   "metadata": {},
   "outputs": [
    {
     "name": "stdout",
     "output_type": "stream",
     "text": [
      "              precision    recall  f1-score   support\n",
      "\n",
      "           0     0.9939    0.9828    0.9883       991\n",
      "           1     0.9938    0.9921    0.9930      1137\n",
      "           2     0.9893    0.9632    0.9761      1060\n",
      "           3     0.9802    0.9659    0.9730      1025\n",
      "           4     0.9695    0.9835    0.9764       968\n",
      "           5     0.9843    0.9659    0.9750       909\n",
      "           6     0.9781    0.9884    0.9832       948\n",
      "           7     0.9874    0.9713    0.9793      1045\n",
      "           8     0.9661    0.9843    0.9751       956\n",
      "           9     0.9445    0.9917    0.9675       961\n",
      "\n",
      "    accuracy                         0.9789     10000\n",
      "   macro avg     0.9787    0.9789    0.9787     10000\n",
      "weighted avg     0.9792    0.9789    0.9789     10000\n",
      "\n"
     ]
    }
   ],
   "source": [
    "test_preds = model(test_data.data.to(device=device, dtype=torch.float))\n",
    "test_labels = test_data.targets\n",
    "from sklearn.metrics import classification_report\n",
    "\n",
    "print(\n",
    "    classification_report(\n",
    "        test_preds.to(device=\"cpu\").detach().numpy().argmax(axis=1), test_labels,\n",
    "        digits=4\n",
    "    )\n",
    ")\n"
   ]
  },
  {
   "cell_type": "markdown",
   "metadata": {},
   "source": [
    "https://pytorch.org/tutorials/beginner/blitz/neural_networks_tutorial.html"
   ]
  }
 ],
 "metadata": {
  "kernelspec": {
   "display_name": "Python 3.9.13 ('pytorch')",
   "language": "python",
   "name": "python3"
  },
  "language_info": {
   "codemirror_mode": {
    "name": "ipython",
    "version": 3
   },
   "file_extension": ".py",
   "mimetype": "text/x-python",
   "name": "python",
   "nbconvert_exporter": "python",
   "pygments_lexer": "ipython3",
   "version": "3.9.13"
  },
  "orig_nbformat": 4,
  "vscode": {
   "interpreter": {
    "hash": "9e8b8adcd60e3125d3846633b1286e68149d6edb0e860e6f97e15020191dc869"
   }
  }
 },
 "nbformat": 4,
 "nbformat_minor": 2
}
