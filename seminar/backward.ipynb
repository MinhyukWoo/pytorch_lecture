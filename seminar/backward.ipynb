{
 "cells": [
  {
   "cell_type": "code",
   "execution_count": 22,
   "metadata": {},
   "outputs": [],
   "source": [
    "from torchvision.datasets import MNIST\n",
    "from torchvision import transforms\n",
    "import os\n",
    "\n",
    "train_data = MNIST(\n",
    "    root=os.path.join(\"dataset\", \"mnist\"),\n",
    "    train=True,\n",
    "    download=True,\n",
    "    transform=transforms.ToTensor(),\n",
    ")\n",
    "test_data = MNIST(\n",
    "    root=os.path.join(\"dataset\", \"mnist\"),\n",
    "    train=False,\n",
    "    download=True,\n",
    "    transform=transforms.ToTensor(),\n",
    ")\n"
   ]
  },
  {
   "cell_type": "code",
   "execution_count": 23,
   "metadata": {},
   "outputs": [
    {
     "data": {
      "text/plain": [
       "Model(\n",
       "  (layer1): Linear(in_features=784, out_features=256, bias=True)\n",
       "  (layer2): Linear(in_features=256, out_features=128, bias=True)\n",
       "  (layer3): Linear(in_features=128, out_features=64, bias=True)\n",
       "  (layer4): Linear(in_features=64, out_features=10, bias=True)\n",
       ")"
      ]
     },
     "execution_count": 23,
     "metadata": {},
     "output_type": "execute_result"
    }
   ],
   "source": [
    "import torch\n",
    "from torch import nn\n",
    "from collections import OrderedDict\n",
    "\n",
    "class Model(nn.Module):\n",
    "    def __init__(self, in_features, out_features=10) -> None:\n",
    "        super().__init__()\n",
    "        self.in_features = in_features\n",
    "        self.layer1 = nn.Linear(in_features=self.in_features, out_features=256)\n",
    "        self.layer2 = nn.Linear(in_features=256, out_features=128)\n",
    "        self.layer3 = nn.Linear(in_features=128, out_features=64)\n",
    "        self.layer4 = nn.Linear(in_features=64, out_features=10)\n",
    "\n",
    "    def forward(self, x: torch.Tensor):\n",
    "        x = x.view(-1, self.in_features)\n",
    "        x = self.layer1(x)\n",
    "        x = nn.functional.relu(x)\n",
    "        x = self.layer2(x)\n",
    "        x = nn.functional.relu(x)\n",
    "        x = self.layer3(x)\n",
    "        x = nn.functional.relu(x)\n",
    "        x = self.layer4(x)\n",
    "        return x\n",
    "\n",
    "\n",
    "model = Model(28 * 28).to(device=\"cuda\")\n",
    "model\n"
   ]
  },
  {
   "cell_type": "code",
   "execution_count": 28,
   "metadata": {},
   "outputs": [],
   "source": [
    "from torch import optim\n",
    "optimizer = optim.Adam(model.parameters())\n",
    "criterion = nn.CrossEntropyLoss()\n"
   ]
  },
  {
   "cell_type": "code",
   "execution_count": 29,
   "metadata": {},
   "outputs": [],
   "source": [
    "from torch.utils.data import DataLoader\n",
    "\n",
    "data_loader = DataLoader(\n",
    "    dataset=train_data, batch_size=64, shuffle=True, drop_last=True\n",
    ")\n"
   ]
  },
  {
   "cell_type": "code",
   "execution_count": 30,
   "metadata": {},
   "outputs": [
    {
     "name": "stdout",
     "output_type": "stream",
     "text": [
      "epoch   1: 0.04490001127123833\n",
      "epoch   2: 0.008067803457379341\n",
      "epoch   3: 0.005276951938867569\n",
      "epoch   4: 0.0014863050309941173\n",
      "epoch   5: 0.047759849578142166\n",
      "epoch   6: 2.9906799682066776e-05\n",
      "epoch   7: 0.0006231588777154684\n",
      "epoch   8: 2.867712828447111e-05\n",
      "epoch   9: 0.00044782229815609753\n",
      "epoch  10: 8.746065577724949e-05\n"
     ]
    }
   ],
   "source": [
    "epochs = 10\n",
    "for epoch in range(1, epochs + 1):\n",
    "    for X, y in data_loader:\n",
    "        X = X.to(device=\"cuda\")\n",
    "        y = y.to(device=\"cuda\")\n",
    "\n",
    "        train_preds = model(X)\n",
    "        loss = criterion(train_preds, y)\n",
    "        loss.backward()\n",
    "        optimizer.step()\n",
    "        optimizer.zero_grad()\n",
    "    print(f\"epoch {epoch:3}: {loss.item()}\")\n"
   ]
  },
  {
   "cell_type": "code",
   "execution_count": 37,
   "metadata": {},
   "outputs": [
    {
     "name": "stdout",
     "output_type": "stream",
     "text": [
      "              precision    recall  f1-score   support\n",
      "\n",
      "           0     0.9888    0.9828    0.9858       986\n",
      "           1     0.9930    0.9809    0.9869      1149\n",
      "           2     0.9797    0.9806    0.9801      1031\n",
      "           3     0.9901    0.9606    0.9751      1041\n",
      "           4     0.9796    0.9816    0.9806       980\n",
      "           5     0.9753    0.9853    0.9803       883\n",
      "           6     0.9833    0.9864    0.9848       955\n",
      "           7     0.9825    0.9740    0.9782      1037\n",
      "           8     0.9507    0.9893    0.9696       936\n",
      "           9     0.9722    0.9790    0.9756      1002\n",
      "\n",
      "    accuracy                         0.9798     10000\n",
      "   macro avg     0.9795    0.9800    0.9797     10000\n",
      "weighted avg     0.9800    0.9798    0.9798     10000\n",
      "\n"
     ]
    }
   ],
   "source": [
    "test_preds = model(test_data.data.to(device=\"cuda\", dtype=torch.float))\n",
    "test_labels = test_data.targets\n",
    "from sklearn.metrics import classification_report\n",
    "\n",
    "print(\n",
    "    classification_report(\n",
    "        test_preds.to(device=\"cpu\").detach().numpy().argmax(axis=1), test_labels,\n",
    "        digits=4\n",
    "    )\n",
    ")\n"
   ]
  },
  {
   "cell_type": "markdown",
   "metadata": {},
   "source": [
    "https://pytorch.org/tutorials/beginner/blitz/neural_networks_tutorial.html"
   ]
  }
 ],
 "metadata": {
  "kernelspec": {
   "display_name": "Python 3.9.13 ('pytorch')",
   "language": "python",
   "name": "python3"
  },
  "language_info": {
   "codemirror_mode": {
    "name": "ipython",
    "version": 3
   },
   "file_extension": ".py",
   "mimetype": "text/x-python",
   "name": "python",
   "nbconvert_exporter": "python",
   "pygments_lexer": "ipython3",
   "version": "3.9.13"
  },
  "orig_nbformat": 4,
  "vscode": {
   "interpreter": {
    "hash": "a2cfc9f92384bea4421cae4ab88ec24798f65a1c0d1ec40acf609fab130197c5"
   }
  }
 },
 "nbformat": 4,
 "nbformat_minor": 2
}
