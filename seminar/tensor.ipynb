{
 "cells": [
  {
   "cell_type": "markdown",
   "metadata": {},
   "source": [
    "# ```tensor``` 탐구"
   ]
  },
  {
   "cell_type": "markdown",
   "metadata": {},
   "source": [
    "## 생성"
   ]
  },
  {
   "cell_type": "markdown",
   "metadata": {},
   "source": [
    "### `dypte`"
   ]
  },
  {
   "cell_type": "code",
   "execution_count": 2,
   "metadata": {},
   "outputs": [
    {
     "name": "stderr",
     "output_type": "stream",
     "text": [
      "/home/minhyuk/setup/miniconda3/envs/pytorch/lib/python3.9/site-packages/tqdm/auto.py:22: TqdmWarning: IProgress not found. Please update jupyter and ipywidgets. See https://ipywidgets.readthedocs.io/en/stable/user_install.html\n",
      "  from .autonotebook import tqdm as notebook_tqdm\n"
     ]
    },
    {
     "name": "stdout",
     "output_type": "stream",
     "text": [
      "tensor([1., 2., 3.])'s element data type is torch.float32\n",
      "tensor([4., 5., 6.])'s element data type is torch.float32\n",
      "tensor([7., 8., 9.])'s element data type is torch.float32\n"
     ]
    }
   ],
   "source": [
    "import torch\n",
    "\n",
    "float_tensor1 = torch.tensor([1, 2, 3], dtype=torch.float)\n",
    "float_tensor2 = torch.tensor([4, 5, 6], dtype=torch.float32)\n",
    "float_tensor3 = torch.FloatTensor([7, 8, 9])  # Legacy Constructors\n",
    "\n",
    "for tensor in [float_tensor1, float_tensor2, float_tensor3]:\n",
    "    print(f\"{tensor}'s element data type is {tensor.dtype}\")"
   ]
  },
  {
   "cell_type": "code",
   "execution_count": 162,
   "metadata": {},
   "outputs": [
    {
     "name": "stdout",
     "output_type": "stream",
     "text": [
      "torch.float32\n",
      "torch.int32\n",
      "torch.bool\n",
      "torch.float64\n",
      "torch.int64\n"
     ]
    }
   ],
   "source": [
    "# 32-bit floating point\n",
    "print(torch.float)\n",
    "# 32-bit integer (signed)\n",
    "print(torch.int)\n",
    "# Boolean\n",
    "print(torch.bool)\n",
    "\n",
    "# 64-bit floating point\n",
    "print(torch.double)\n",
    "# 64-bit inteber (signed)\n",
    "print(torch.long)"
   ]
  },
  {
   "cell_type": "code",
   "execution_count": 165,
   "metadata": {},
   "outputs": [
    {
     "data": {
      "text/plain": [
       "torch.int64"
      ]
     },
     "execution_count": 165,
     "metadata": {},
     "output_type": "execute_result"
    }
   ],
   "source": [
    "torch.tensor([1, 2, 3]).dtype"
   ]
  },
  {
   "cell_type": "markdown",
   "metadata": {},
   "source": [
    "### `device`   \n",
    "* `cpu`   \n",
    "* `gpu`   "
   ]
  },
  {
   "cell_type": "code",
   "execution_count": 167,
   "metadata": {},
   "outputs": [
    {
     "name": "stdout",
     "output_type": "stream",
     "text": [
      "tensor([1, 2, 3])'s device is cpu\n",
      "tensor([4, 5, 6], device='cuda:0')'s device is cuda:0\n",
      "tensor([7, 8, 9], device='cuda:0')'s device is cuda:0\n"
     ]
    }
   ],
   "source": [
    "cpu_tensor = torch.tensor([1, 2, 3])\n",
    "gpu_tensor1 = torch.tensor([4, 5, 6], device=\"cuda\")\n",
    "gpu_tensor2 = torch.tensor([7, 8, 9], device=torch.device(\"cuda\"))\n",
    "\n",
    "for tensor in [cpu_tensor, gpu_tensor1, gpu_tensor2]:\n",
    "    print(f\"{tensor}'s device is {tensor.device}\")"
   ]
  },
  {
   "cell_type": "code",
   "execution_count": 179,
   "metadata": {},
   "outputs": [
    {
     "name": "stdout",
     "output_type": "stream",
     "text": [
      "cuda\n"
     ]
    }
   ],
   "source": [
    "available_device = torch.device(\"cuda\" if torch.cuda.is_available() else \"cpu\")\n",
    "print(available_device)"
   ]
  },
  {
   "cell_type": "markdown",
   "metadata": {},
   "source": [
    "### `layout`   \n",
    "`torch.sparse_coo`는 베타 버전, 바뀔 수 있음\n",
    "* `torch.strided`: Dense Tensor   \n",
    "* `torch.sparse_coo`: Sparse Tensor   "
   ]
  },
  {
   "cell_type": "markdown",
   "metadata": {},
   "source": [
    "## 연산"
   ]
  },
  {
   "cell_type": "markdown",
   "metadata": {},
   "source": [
    "### inplace"
   ]
  },
  {
   "cell_type": "code",
   "execution_count": 4,
   "metadata": {},
   "outputs": [
    {
     "name": "stdout",
     "output_type": "stream",
     "text": [
      "===Before===\n",
      "tensor([[0., 0., 0.],\n",
      "        [0., 0., 0.]])\n",
      "===After===\n",
      "tensor([[12., 12., 12.],\n",
      "        [12., 12., 12.]])\n"
     ]
    }
   ],
   "source": [
    "data = torch.zeros(2, 3)\n",
    "print(\"===Before===\")\n",
    "print(data)\n",
    "data.add_(12)\n",
    "print(\"===After===\")\n",
    "print(data)"
   ]
  },
  {
   "cell_type": "markdown",
   "metadata": {},
   "source": [
    "### Reshape\n",
    "```view```  \n",
    "반드시 같은 데이터를 공유한다. (shallow copy)   \n",
    "조건에 따라서 RuntimeError을 띄우기도 한다.   \n",
    "\n",
    "```reshape```   \n",
    "같은 데이터를 공유할 때도 있지만, 조건에 따라서 복사해서 제공할 때도 있다.   \n",
    "그러나 Copying과 viewing이 되는 상황을 구분해서 사용하는 것은 좋지 않다.    \n",
    "> but you should not depend on the copying vs. viewing behavior."
   ]
  },
  {
   "cell_type": "code",
   "execution_count": 35,
   "metadata": {},
   "outputs": [
    {
     "name": "stdout",
     "output_type": "stream",
     "text": [
      "shape: torch.Size([1, 2, 3, 4])\n",
      "shape: torch.Size([1, 3, 2, 4])\n",
      "shape: torch.Size([1, 3, 2, 4])\n"
     ]
    }
   ],
   "source": [
    "data = torch.arange(0, 24).reshape(1, 2, 3, 4)\n",
    "viewed_data = data.view(1, 3, 2, 4)\n",
    "reshaped_data = data.view(1, 3, 2, 4)\n",
    "\n",
    "for tensor in [data, viewed_data, reshaped_data]:\n",
    "    print(\"shape:\", tensor.shape)"
   ]
  },
  {
   "cell_type": "code",
   "execution_count": 36,
   "metadata": {},
   "outputs": [
    {
     "name": "stdout",
     "output_type": "stream",
     "text": [
      "view size is not compatible with input tensor's size and stride (at least one dimension spans across two contiguous subspaces). Use .reshape(...) instead.\n",
      "shape: torch.Size([4, 3, 2, 1])\n",
      "shape: torch.Size([1, 3, 2, 4])\n"
     ]
    }
   ],
   "source": [
    "tranposed_data = torch.arange(0, 24).reshape(1, 2, 3, 4).T\n",
    "try:\n",
    "    viewed_data = tranposed_data.view(1, 3, 2 ,4)\n",
    "except RuntimeError as error:\n",
    "    print(error)\n",
    "reshaped_data = tranposed_data.reshape(1, 3, 2, 4)\n",
    "\n",
    "reshaped_data.add_(10)\n",
    "for tensor in [tranposed_data, reshaped_data]:\n",
    "    print(\"shape:\", tensor.shape)\n"
   ]
  },
  {
   "cell_type": "markdown",
   "metadata": {},
   "source": [
    "```contiguous```    \n"
   ]
  },
  {
   "cell_type": "markdown",
   "metadata": {},
   "source": [
    "### Dimension swap\n",
    "`transpose`   \n",
    "두 차원끼리 교환할 때 사용한다. (shallow copy)  \n",
    "`permute`   \n",
    "원하는 차원들을 교환할 때 사용한다. (shallow copy)  \n",
    "`view` and `reshape` \n"
   ]
  },
  {
   "cell_type": "markdown",
   "metadata": {},
   "source": [
    "### Dimension insert   \n",
    "`unsqueeze`   \n",
    "`view` and `reshape`   \n",
    "`expand`   \n"
   ]
  },
  {
   "cell_type": "markdown",
   "metadata": {},
   "source": [
    "### Flatten할 때\n",
    "```ravel```   \n",
    "```flatten```   "
   ]
  },
  {
   "cell_type": "markdown",
   "metadata": {},
   "source": [
    "### Concatenate   \n",
    "```cat```   \n",
    "```stack```   "
   ]
  }
 ],
 "metadata": {
  "kernelspec": {
   "display_name": "Python 3.9.13 ('pytorch')",
   "language": "python",
   "name": "python3"
  },
  "language_info": {
   "codemirror_mode": {
    "name": "ipython",
    "version": 3
   },
   "file_extension": ".py",
   "mimetype": "text/x-python",
   "name": "python",
   "nbconvert_exporter": "python",
   "pygments_lexer": "ipython3",
   "version": "3.9.13"
  },
  "orig_nbformat": 4,
  "vscode": {
   "interpreter": {
    "hash": "9e8b8adcd60e3125d3846633b1286e68149d6edb0e860e6f97e15020191dc869"
   }
  }
 },
 "nbformat": 4,
 "nbformat_minor": 2
}
