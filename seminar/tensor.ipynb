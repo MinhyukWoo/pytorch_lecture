{
 "cells": [
  {
   "cell_type": "markdown",
   "metadata": {},
   "source": [
    "# ```tensor``` 탐구"
   ]
  },
  {
   "cell_type": "markdown",
   "metadata": {},
   "source": [
    "## 생성"
   ]
  },
  {
   "cell_type": "markdown",
   "metadata": {},
   "source": [
    "### `dypte`"
   ]
  },
  {
   "cell_type": "code",
   "execution_count": 156,
   "metadata": {},
   "outputs": [
    {
     "name": "stdout",
     "output_type": "stream",
     "text": [
      "tensor([1., 2., 3.])'s element data type is torch.float32\n",
      "tensor([4., 5., 6.])'s element data type is torch.float32\n",
      "tensor([7., 8., 9.])'s element data type is torch.float32\n"
     ]
    }
   ],
   "source": [
    "import torch\n",
    "\n",
    "float_tensor1 = torch.tensor([1, 2, 3], dtype=torch.float)\n",
    "float_tensor2 = torch.tensor([4, 5, 6], dtype=torch.float32)\n",
    "float_tensor3 = torch.FloatTensor([7, 8, 9])  # Legacy Constructors\n",
    "\n",
    "for tensor in [float_tensor1, float_tensor2, float_tensor3]:\n",
    "    print(f\"{tensor}'s element data type is {tensor.dtype}\")"
   ]
  },
  {
   "cell_type": "code",
   "execution_count": 162,
   "metadata": {},
   "outputs": [
    {
     "name": "stdout",
     "output_type": "stream",
     "text": [
      "torch.float32\n",
      "torch.int32\n",
      "torch.bool\n",
      "torch.float64\n",
      "torch.int64\n"
     ]
    }
   ],
   "source": [
    "# 32-bit floating point\n",
    "print(torch.float)\n",
    "# 32-bit integer (signed)\n",
    "print(torch.int)\n",
    "# Boolean\n",
    "print(torch.bool)\n",
    "\n",
    "# 64-bit floating point\n",
    "print(torch.double)\n",
    "# 64-bit inteber (signed)\n",
    "print(torch.long)"
   ]
  },
  {
   "cell_type": "code",
   "execution_count": 165,
   "metadata": {},
   "outputs": [
    {
     "data": {
      "text/plain": [
       "torch.int64"
      ]
     },
     "execution_count": 165,
     "metadata": {},
     "output_type": "execute_result"
    }
   ],
   "source": [
    "torch.tensor([1, 2, 3]).dtype"
   ]
  },
  {
   "cell_type": "markdown",
   "metadata": {},
   "source": [
    "### `device`   \n",
    "* `cpu`   \n",
    "* `gpu`   "
   ]
  },
  {
   "cell_type": "code",
   "execution_count": 167,
   "metadata": {},
   "outputs": [
    {
     "name": "stdout",
     "output_type": "stream",
     "text": [
      "tensor([1, 2, 3])'s device is cpu\n",
      "tensor([4, 5, 6], device='cuda:0')'s device is cuda:0\n",
      "tensor([7, 8, 9], device='cuda:0')'s device is cuda:0\n"
     ]
    }
   ],
   "source": [
    "cpu_tensor = torch.tensor([1, 2, 3])\n",
    "gpu_tensor1 = torch.tensor([4, 5, 6], device=\"cuda\")\n",
    "gpu_tensor2 = torch.tensor([7, 8, 9], device=torch.device(\"cuda\"))\n",
    "\n",
    "for tensor in [cpu_tensor, gpu_tensor1, gpu_tensor2]:\n",
    "    print(f\"{tensor}'s device is {tensor.device}\")"
   ]
  },
  {
   "cell_type": "code",
   "execution_count": 179,
   "metadata": {},
   "outputs": [
    {
     "name": "stdout",
     "output_type": "stream",
     "text": [
      "cuda\n"
     ]
    }
   ],
   "source": [
    "available_device = torch.device(\"cuda\" if torch.cuda.is_available() else \"cpu\")\n",
    "print(available_device)"
   ]
  },
  {
   "cell_type": "markdown",
   "metadata": {},
   "source": [
    "### `layout`   \n",
    "`torch.sparse_coo`는 베타 버전, 바뀔 수 있음\n",
    "* `torch.strided`: Dense Tensor   \n",
    "* `torch.sparse_coo`: Sparse Tensor   "
   ]
  },
  {
   "cell_type": "markdown",
   "metadata": {},
   "source": [
    "## 연산"
   ]
  },
  {
   "cell_type": "markdown",
   "metadata": {},
   "source": [
    "### inplace"
   ]
  },
  {
   "cell_type": "code",
   "execution_count": 4,
   "metadata": {},
   "outputs": [
    {
     "name": "stdout",
     "output_type": "stream",
     "text": [
      "===Before===\n",
      "tensor([[0., 0., 0.],\n",
      "        [0., 0., 0.]])\n",
      "===After===\n",
      "tensor([[12., 12., 12.],\n",
      "        [12., 12., 12.]])\n"
     ]
    }
   ],
   "source": [
    "data = torch.zeros(2, 3)\n",
    "print(\"===Before===\")\n",
    "print(data)\n",
    "data.add_(12)\n",
    "print(\"===After===\")\n",
    "print(data)"
   ]
  },
  {
   "cell_type": "markdown",
   "metadata": {},
   "source": [
    "### Reshape\n",
    "```view```  \n",
    "같은 데이터를 공유한다. (shallow copy)\n",
    "\n",
    "```reshape```   \n",
    "Copying과 viewing이 되는 상황을 구분하는 것이 의미 없다.    \n",
    "> but you should not depend on the copying vs. viewing behavior."
   ]
  },
  {
   "cell_type": "markdown",
   "metadata": {},
   "source": [
    "```contiguous```    \n"
   ]
  },
  {
   "cell_type": "markdown",
   "metadata": {},
   "source": [
    "### Dimension swap\n",
    "```transpose```   \n",
    "```permute```   "
   ]
  },
  {
   "cell_type": "markdown",
   "metadata": {},
   "source": [
    "### Flatten할 때\n",
    "```ravel```   \n",
    "```flatten```   "
   ]
  },
  {
   "cell_type": "markdown",
   "metadata": {},
   "source": [
    "### Concatenate   \n",
    "```cat```   \n",
    "```stack```   "
   ]
  }
 ],
 "metadata": {
  "kernelspec": {
   "display_name": "Python 3.9.13 ('pytorch')",
   "language": "python",
   "name": "python3"
  },
  "language_info": {
   "codemirror_mode": {
    "name": "ipython",
    "version": 3
   },
   "file_extension": ".py",
   "mimetype": "text/x-python",
   "name": "python",
   "nbconvert_exporter": "python",
   "pygments_lexer": "ipython3",
   "version": "3.9.13"
  },
  "orig_nbformat": 4,
  "vscode": {
   "interpreter": {
    "hash": "a2cfc9f92384bea4421cae4ab88ec24798f65a1c0d1ec40acf609fab130197c5"
   }
  }
 },
 "nbformat": 4,
 "nbformat_minor": 2
}
