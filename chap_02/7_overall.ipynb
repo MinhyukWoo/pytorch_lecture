{
 "cells": [
  {
   "cell_type": "code",
   "execution_count": 48,
   "metadata": {},
   "outputs": [
    {
     "data": {
      "text/html": [
       "<div>\n",
       "<style scoped>\n",
       "    .dataframe tbody tr th:only-of-type {\n",
       "        vertical-align: middle;\n",
       "    }\n",
       "\n",
       "    .dataframe tbody tr th {\n",
       "        vertical-align: top;\n",
       "    }\n",
       "\n",
       "    .dataframe thead th {\n",
       "        text-align: right;\n",
       "    }\n",
       "</style>\n",
       "<table border=\"1\" class=\"dataframe\">\n",
       "  <thead>\n",
       "    <tr style=\"text-align: right;\">\n",
       "      <th></th>\n",
       "      <th>price</th>\n",
       "      <th>maint</th>\n",
       "      <th>doors</th>\n",
       "      <th>persons</th>\n",
       "      <th>lug_capacity</th>\n",
       "      <th>safety</th>\n",
       "      <th>output</th>\n",
       "    </tr>\n",
       "  </thead>\n",
       "  <tbody>\n",
       "    <tr>\n",
       "      <th>0</th>\n",
       "      <td>vhigh</td>\n",
       "      <td>vhigh</td>\n",
       "      <td>2</td>\n",
       "      <td>2</td>\n",
       "      <td>small</td>\n",
       "      <td>low</td>\n",
       "      <td>unacc</td>\n",
       "    </tr>\n",
       "    <tr>\n",
       "      <th>1</th>\n",
       "      <td>vhigh</td>\n",
       "      <td>vhigh</td>\n",
       "      <td>2</td>\n",
       "      <td>2</td>\n",
       "      <td>small</td>\n",
       "      <td>med</td>\n",
       "      <td>unacc</td>\n",
       "    </tr>\n",
       "    <tr>\n",
       "      <th>2</th>\n",
       "      <td>vhigh</td>\n",
       "      <td>vhigh</td>\n",
       "      <td>2</td>\n",
       "      <td>2</td>\n",
       "      <td>small</td>\n",
       "      <td>high</td>\n",
       "      <td>unacc</td>\n",
       "    </tr>\n",
       "    <tr>\n",
       "      <th>3</th>\n",
       "      <td>vhigh</td>\n",
       "      <td>vhigh</td>\n",
       "      <td>2</td>\n",
       "      <td>2</td>\n",
       "      <td>med</td>\n",
       "      <td>low</td>\n",
       "      <td>unacc</td>\n",
       "    </tr>\n",
       "    <tr>\n",
       "      <th>4</th>\n",
       "      <td>vhigh</td>\n",
       "      <td>vhigh</td>\n",
       "      <td>2</td>\n",
       "      <td>2</td>\n",
       "      <td>med</td>\n",
       "      <td>med</td>\n",
       "      <td>unacc</td>\n",
       "    </tr>\n",
       "    <tr>\n",
       "      <th>...</th>\n",
       "      <td>...</td>\n",
       "      <td>...</td>\n",
       "      <td>...</td>\n",
       "      <td>...</td>\n",
       "      <td>...</td>\n",
       "      <td>...</td>\n",
       "      <td>...</td>\n",
       "    </tr>\n",
       "    <tr>\n",
       "      <th>1723</th>\n",
       "      <td>low</td>\n",
       "      <td>low</td>\n",
       "      <td>5more</td>\n",
       "      <td>more</td>\n",
       "      <td>med</td>\n",
       "      <td>med</td>\n",
       "      <td>good</td>\n",
       "    </tr>\n",
       "    <tr>\n",
       "      <th>1724</th>\n",
       "      <td>low</td>\n",
       "      <td>low</td>\n",
       "      <td>5more</td>\n",
       "      <td>more</td>\n",
       "      <td>med</td>\n",
       "      <td>high</td>\n",
       "      <td>vgood</td>\n",
       "    </tr>\n",
       "    <tr>\n",
       "      <th>1725</th>\n",
       "      <td>low</td>\n",
       "      <td>low</td>\n",
       "      <td>5more</td>\n",
       "      <td>more</td>\n",
       "      <td>big</td>\n",
       "      <td>low</td>\n",
       "      <td>unacc</td>\n",
       "    </tr>\n",
       "    <tr>\n",
       "      <th>1726</th>\n",
       "      <td>low</td>\n",
       "      <td>low</td>\n",
       "      <td>5more</td>\n",
       "      <td>more</td>\n",
       "      <td>big</td>\n",
       "      <td>med</td>\n",
       "      <td>good</td>\n",
       "    </tr>\n",
       "    <tr>\n",
       "      <th>1727</th>\n",
       "      <td>low</td>\n",
       "      <td>low</td>\n",
       "      <td>5more</td>\n",
       "      <td>more</td>\n",
       "      <td>big</td>\n",
       "      <td>high</td>\n",
       "      <td>vgood</td>\n",
       "    </tr>\n",
       "  </tbody>\n",
       "</table>\n",
       "<p>1728 rows × 7 columns</p>\n",
       "</div>"
      ],
      "text/plain": [
       "      price  maint  doors persons lug_capacity safety output\n",
       "0     vhigh  vhigh      2       2        small    low  unacc\n",
       "1     vhigh  vhigh      2       2        small    med  unacc\n",
       "2     vhigh  vhigh      2       2        small   high  unacc\n",
       "3     vhigh  vhigh      2       2          med    low  unacc\n",
       "4     vhigh  vhigh      2       2          med    med  unacc\n",
       "...     ...    ...    ...     ...          ...    ...    ...\n",
       "1723    low    low  5more    more          med    med   good\n",
       "1724    low    low  5more    more          med   high  vgood\n",
       "1725    low    low  5more    more          big    low  unacc\n",
       "1726    low    low  5more    more          big    med   good\n",
       "1727    low    low  5more    more          big   high  vgood\n",
       "\n",
       "[1728 rows x 7 columns]"
      ]
     },
     "execution_count": 48,
     "metadata": {},
     "output_type": "execute_result"
    }
   ],
   "source": [
    "import os\n",
    "import pandas as pd\n",
    "\n",
    "DATA_PATH = os.path.join(os.path.pardir, \"dataset\", \"chap02\", \"car_evaluation.csv\")\n",
    "\n",
    "\n",
    "def get_data(data_path=DATA_PATH):\n",
    "    return pd.read_csv(data_path)\n",
    "\n",
    "\n",
    "get_data()\n"
   ]
  },
  {
   "cell_type": "code",
   "execution_count": 49,
   "metadata": {},
   "outputs": [
    {
     "data": {
      "text/plain": [
       "<AxesSubplot:ylabel='output'>"
      ]
     },
     "execution_count": 49,
     "metadata": {},
     "output_type": "execute_result"
    },
    {
     "data": {
      "image/png": "[encoded data removed]",
      "text/plain": [
       "<Figure size 640x480 with 1 Axes>"
      ]
     },
     "metadata": {},
     "output_type": "display_data"
    }
   ],
   "source": [
    "import matplotlib.pyplot as plt\n",
    "\n",
    "get_data()[\"output\"].value_counts().plot(\n",
    "    kind=\"pie\",\n",
    "    autopct=\"%0.05f%%\",\n",
    "    colors=[\"lightblue\", \"lightgreen\", \"orange\", \"pink\"],\n",
    "    explode=(0.05, 0.05, 0.05, 0.05),\n",
    ")\n"
   ]
  },
  {
   "cell_type": "code",
   "execution_count": 50,
   "metadata": {},
   "outputs": [
    {
     "name": "stdout",
     "output_type": "stream",
     "text": [
      "torch.Size([1728, 6])\n",
      "torch.int64\n"
     ]
    },
    {
     "data": {
      "text/plain": [
       "tensor([[3, 3, 0, 0, 2, 1],\n",
       "        [3, 3, 0, 0, 2, 2],\n",
       "        [3, 3, 0, 0, 2, 0],\n",
       "        ...,\n",
       "        [1, 1, 3, 2, 0, 1],\n",
       "        [1, 1, 3, 2, 0, 2],\n",
       "        [1, 1, 3, 2, 0, 0]])"
      ]
     },
     "execution_count": 50,
     "metadata": {},
     "output_type": "execute_result"
    }
   ],
   "source": [
    "import numpy as np\n",
    "import torch\n",
    "\n",
    "\n",
    "def get_categorical_data(\n",
    "    data=get_data(), categorical_columns=list(get_data().columns[:-1])\n",
    "):\n",
    "    categorical_data = (\n",
    "        data[category].astype(\"category\") for category in categorical_columns\n",
    "    )\n",
    "    categorical_data = (\n",
    "        col_dataset.cat.codes.values for col_dataset in categorical_data\n",
    "    )\n",
    "    return torch.tensor(np.stack(list(categorical_data), 1), dtype=int)\n",
    "\n",
    "\n",
    "print(get_categorical_data().shape)\n",
    "print(get_categorical_data().dtype)\n",
    "get_categorical_data()\n"
   ]
  },
  {
   "cell_type": "code",
   "execution_count": 51,
   "metadata": {},
   "outputs": [
    {
     "name": "stdout",
     "output_type": "stream",
     "text": [
      "torch.Size([1728])\n",
      "torch.int64\n"
     ]
    },
    {
     "data": {
      "text/plain": [
       "tensor([2, 2, 2,  ..., 2, 1, 3])"
      ]
     },
     "execution_count": 51,
     "metadata": {},
     "output_type": "execute_result"
    }
   ],
   "source": [
    "def get_categorical_output(output=get_data()[\"output\"]):\n",
    "    outputs = pd.get_dummies(output)\n",
    "    outputs = outputs.values.argmax(axis=1)\n",
    "    return torch.tensor(outputs, dtype=int)\n",
    "\n",
    "\n",
    "print(get_categorical_output().shape)\n",
    "print(get_categorical_output().dtype)\n",
    "get_categorical_output()\n"
   ]
  },
  {
   "cell_type": "code",
   "execution_count": 52,
   "metadata": {},
   "outputs": [
    {
     "name": "stdout",
     "output_type": "stream",
     "text": [
      "(1040, 7)\n",
      "(344, 7)\n",
      "(344, 7)\n"
     ]
    }
   ],
   "source": [
    "def split_train_val_test(data: pd.DataFrame, val=0.2, test=0.2):\n",
    "    train_data = pd.DataFrame()\n",
    "    val_data = pd.DataFrame()\n",
    "    test_data = pd.DataFrame()\n",
    "    for value in data[\"output\"].value_counts().index:\n",
    "        sub_data = data[data[\"output\"] == value]\n",
    "        sub_data = sub_data.sample(frac=1, ignore_index=True)\n",
    "        data_len = len(sub_data)\n",
    "        val_len = int(data_len * val)\n",
    "        test_len = int(data_len * test)\n",
    "        train_len = data_len - val_len - test_len\n",
    "        train_data = pd.concat(\n",
    "            [train_data, sub_data[:train_len]], axis=0\n",
    "        )\n",
    "        val_data = pd.concat(\n",
    "            [val_data, sub_data[train_len: train_len + val_len]], axis=0\n",
    "        )\n",
    "        test_data = pd.concat(\n",
    "            [test_data, sub_data[train_len + val_len:]], axis=0\n",
    "        )\n",
    "    train_data.sample(frac=1, ignore_index=True)\n",
    "    val_data.sample(frac=1, ignore_index=True)\n",
    "    test_data.sample(frac=1, ignore_index=True)\n",
    "    return (train_data, val_data, test_data)\n",
    "\n",
    "\n",
    "train_data, val_data, test_data = split_train_val_test(get_data())\n",
    "print(train_data.shape)\n",
    "print(val_data.shape)\n",
    "print(test_data.shape)"
   ]
  },
  {
   "cell_type": "code",
   "execution_count": 53,
   "metadata": {},
   "outputs": [
    {
     "name": "stdout",
     "output_type": "stream",
     "text": [
      "torch.Size([1040])\n",
      "torch.Size([344])\n",
      "torch.Size([344])\n"
     ]
    },
    {
     "data": {
      "text/plain": [
       "2    726\n",
       "0    232\n",
       "1     43\n",
       "3     39\n",
       "dtype: int64"
      ]
     },
     "execution_count": 53,
     "metadata": {},
     "output_type": "execute_result"
    }
   ],
   "source": [
    "train_output = get_categorical_output(train_data[\"output\"])\n",
    "val_output = get_categorical_output(val_data[\"output\"])\n",
    "test_output = get_categorical_output(test_data[\"output\"])\n",
    "print(train_output.shape)\n",
    "print(val_output.shape)\n",
    "print(test_output.shape)\n",
    "pd.DataFrame(train_output).value_counts()"
   ]
  },
  {
   "cell_type": "code",
   "execution_count": 54,
   "metadata": {},
   "outputs": [
    {
     "name": "stdout",
     "output_type": "stream",
     "text": [
      "torch.Size([1040, 6])\n",
      "torch.Size([344, 6])\n",
      "torch.Size([344, 6])\n"
     ]
    }
   ],
   "source": [
    "train_data = get_categorical_data(train_data)\n",
    "val_data = get_categorical_data(val_data)\n",
    "test_data = get_categorical_data(test_data)\n",
    "print(train_data.shape)\n",
    "print(val_data.shape)\n",
    "print(test_data.shape)"
   ]
  },
  {
   "cell_type": "code",
   "execution_count": 55,
   "metadata": {},
   "outputs": [
    {
     "data": {
      "text/plain": [
       "[(4, 2), (4, 2), (4, 2), (3, 2), (3, 2), (3, 2)]"
      ]
     },
     "execution_count": 55,
     "metadata": {},
     "output_type": "execute_result"
    }
   ],
   "source": [
    "def get_embedding_size(\n",
    "    data=get_data(), categorical_columns=list(get_data().columns[:-1])\n",
    "):\n",
    "    categorical_dataset = [\n",
    "        data[category].astype(\"category\") for category in categorical_columns\n",
    "    ]\n",
    "    categorical_column_sizes = [\n",
    "        len(categorical_data.cat.categories) for categorical_data in categorical_dataset\n",
    "    ]\n",
    "    return [\n",
    "        (col_size, min(50, (col_size + 1) // 2))\n",
    "        for col_size in categorical_column_sizes\n",
    "    ]\n",
    "\n",
    "\n",
    "get_embedding_size()\n"
   ]
  },
  {
   "cell_type": "code",
   "execution_count": 56,
   "metadata": {},
   "outputs": [
    {
     "data": {
      "text/plain": [
       "Model(\n",
       "  (layers): Sequential(\n",
       "    (0): Linear(in_features=6, out_features=200, bias=True)\n",
       "    (1): ReLU(inplace=True)\n",
       "    (2): BatchNorm1d(200, eps=1e-05, momentum=0.1, affine=True, track_running_stats=True)\n",
       "    (3): Dropout(p=0.5, inplace=False)\n",
       "    (4): Linear(in_features=200, out_features=100, bias=True)\n",
       "    (5): ReLU(inplace=True)\n",
       "    (6): BatchNorm1d(100, eps=1e-05, momentum=0.1, affine=True, track_running_stats=True)\n",
       "    (7): Dropout(p=0.5, inplace=False)\n",
       "    (8): Linear(in_features=100, out_features=50, bias=True)\n",
       "    (9): ReLU(inplace=True)\n",
       "    (10): BatchNorm1d(50, eps=1e-05, momentum=0.1, affine=True, track_running_stats=True)\n",
       "    (11): Dropout(p=0.5, inplace=False)\n",
       "    (12): Linear(in_features=50, out_features=4, bias=True)\n",
       "    (13): Softmax(dim=-1)\n",
       "  )\n",
       ")"
      ]
     },
     "execution_count": 56,
     "metadata": {},
     "output_type": "execute_result"
    }
   ],
   "source": [
    "from torch import nn\n",
    "\n",
    "\n",
    "class Model(nn.Module):\n",
    "    def __init__(self, input_size, output_size, hidden_layers, dropout=0.5) -> None:\n",
    "        super().__init__()\n",
    "\n",
    "        all_layers = []\n",
    "        for hidden_size in hidden_layers:\n",
    "            all_layers.append(nn.Linear(input_size, hidden_size))\n",
    "            all_layers.append(nn.ReLU(inplace=True))\n",
    "            all_layers.append(nn.BatchNorm1d(hidden_size))\n",
    "            all_layers.append(nn.Dropout(dropout))\n",
    "            input_size = hidden_size\n",
    "        all_layers.append(nn.Linear(hidden_layers[-1], output_size))\n",
    "        all_layers.append(nn.Softmax(-1))\n",
    "        self.layers = nn.Sequential(*all_layers)\n",
    "\n",
    "    def forward(self, x):\n",
    "        x = x.type(torch.FloatTensor)\n",
    "        x = self.layers(x)\n",
    "        return x\n",
    "\n",
    "\n",
    "model = Model(get_categorical_data().shape[1], 4, [200, 100, 50])\n",
    "model\n"
   ]
  },
  {
   "cell_type": "code",
   "execution_count": 57,
   "metadata": {},
   "outputs": [],
   "source": [
    "loss_function = nn.CrossEntropyLoss()\n",
    "optimizer = torch.optim.Adam(model.parameters(), lr=0.001)\n"
   ]
  },
  {
   "cell_type": "code",
   "execution_count": 58,
   "metadata": {},
   "outputs": [
    {
     "name": "stdout",
     "output_type": "stream",
     "text": [
      "epoch: 100 loss: 0.99142700\n",
      "epoch: 200 loss: 0.89997482\n",
      "epoch: 300 loss: 0.86092681\n",
      "epoch: 400 loss: 0.83743340\n",
      "epoch: 500 loss: 0.81673282\n",
      "epoch: 600 loss: 0.80805129\n",
      "epoch: 700 loss: 0.80126494\n",
      "epoch: 800 loss: 0.79433995\n",
      "epoch: 900 loss: 0.79597658\n",
      "epoch: 1000 loss: 0.78952223\n"
     ]
    }
   ],
   "source": [
    "def train_model(\n",
    "    model,\n",
    "    train_data,\n",
    "    train_output,\n",
    "    optimizer,\n",
    "    loss_function,\n",
    "    epoch=1000,\n",
    "):\n",
    "    aggrergated_losses = []\n",
    "    for i in range(1, epoch + 1):\n",
    "        preds = model(train_data)\n",
    "        loss = loss_function(preds, train_output)\n",
    "        aggrergated_losses.append(loss)\n",
    "        if i % 100 == 0:\n",
    "            print(f\"epoch: {i:3} loss: {loss.item():10.8f}\")\n",
    "        optimizer.zero_grad()\n",
    "        loss.backward()\n",
    "        optimizer.step()\n",
    "\n",
    "\n",
    "train_model(model, train_data, train_output, optimizer, loss_function)\n"
   ]
  },
  {
   "cell_type": "code",
   "execution_count": 60,
   "metadata": {},
   "outputs": [
    {
     "name": "stdout",
     "output_type": "stream",
     "text": [
      "              precision    recall  f1-score   support\n",
      "\n",
      "           0       0.92      0.89      0.91        76\n",
      "           1       0.92      0.85      0.88        13\n",
      "           2       0.98      0.98      0.98       242\n",
      "           3       0.80      0.92      0.86        13\n",
      "\n",
      "    accuracy                           0.96       344\n",
      "   macro avg       0.90      0.91      0.91       344\n",
      "weighted avg       0.96      0.96      0.96       344\n",
      "\n"
     ]
    }
   ],
   "source": [
    "from sklearn.metrics import classification_report, accuracy_score\n",
    "\n",
    "\n",
    "with torch.no_grad():\n",
    "    preds = model(val_data)\n",
    "    print(classification_report(val_output, preds.argmax(-1)))\n"
   ]
  },
  {
   "cell_type": "code",
   "execution_count": null,
   "metadata": {},
   "outputs": [],
   "source": []
  }
 ],
 "metadata": {
  "kernelspec": {
   "display_name": "Python 3.9.13 ('pytorch')",
   "language": "python",
   "name": "python3"
  },
  "language_info": {
   "codemirror_mode": {
    "name": "ipython",
    "version": 3
   },
   "file_extension": ".py",
   "mimetype": "text/x-python",
   "name": "python",
   "nbconvert_exporter": "python",
   "pygments_lexer": "ipython3",
   "version": "3.9.13"
  },
  "orig_nbformat": 4,
  "vscode": {
   "interpreter": {
    "hash": "a2cfc9f92384bea4421cae4ab88ec24798f65a1c0d1ec40acf609fab130197c5"
   }
  }
 },
 "nbformat": 4,
 "nbformat_minor": 2
}
