{
 "cells": [
  {
   "cell_type": "markdown",
   "metadata": {},
   "source": [
    "우선 모델의 학습을 재현하기 위해 random seed를 제어한다.\n",
    "\n",
    "- `torch`\n",
    "- `numpy`\n",
    "- `random`\n",
    "- `sklearn`에서는 random_state를 전달\n"
   ]
  },
  {
   "cell_type": "code",
   "execution_count": 78,
   "metadata": {},
   "outputs": [],
   "source": [
    "import os\n",
    "import pandas as pd\n",
    "import numpy as np\n",
    "import torch\n",
    "import random\n",
    "\n",
    "RAND_STATE = 9811\n",
    "\n",
    "torch.manual_seed(RAND_STATE)\n",
    "# torch.backends.cudnn.deterministic = True\n",
    "# torch.backends.cudnn.benchmark = False\n",
    "np.random.seed(RAND_STATE)\n",
    "random.seed(RAND_STATE)\n"
   ]
  },
  {
   "cell_type": "markdown",
   "metadata": {},
   "source": [
    "dataset을 train, validation, test으로 각각 6:2:2로 나눈다.  \n",
    "이 때 `sklearn`의 `train_test_split`을 사용한다.  "
   ]
  },
  {
   "cell_type": "code",
   "execution_count": 79,
   "metadata": {},
   "outputs": [],
   "source": [
    "from sklearn.model_selection import train_test_split\n",
    "\n",
    "DATA_PATH = os.path.join(os.path.pardir, \"dataset\", \"chap02\", \"car_evaluation.csv\")\n",
    "\n",
    "\n",
    "def get_data(data_path=DATA_PATH, test_size=0.2, val_size=0.2, random_state=RAND_STATE):\n",
    "    if test_size + val_size >= 1.0:\n",
    "        raise ValueError(\"sum of test_size and val_size must be less than 1.0\")\n",
    "    dataset = pd.read_csv(data_path)\n",
    "    data = dataset.iloc[:, :-1]\n",
    "    label = dataset.iloc[:, -1].to_frame()\n",
    "    X_train, X_not_train, y_train, y_not_train = train_test_split(\n",
    "        data, label, test_size=val_size + test_size, random_state=random_state\n",
    "    )\n",
    "    X_val, X_test, y_val, y_test = train_test_split(\n",
    "        X_not_train,\n",
    "        y_not_train,\n",
    "        test_size=test_size / (test_size + val_size),\n",
    "        random_state=random_state,\n",
    "    )\n",
    "    return X_train, X_val, X_test, y_train, y_val, y_test\n"
   ]
  },
  {
   "cell_type": "code",
   "execution_count": 80,
   "metadata": {},
   "outputs": [
    {
     "name": "stdout",
     "output_type": "stream",
     "text": [
      "X_train.shape: (1036, 6)\n",
      "X_val.shape: (346, 6)\n",
      "X_test.shape: (346, 6)\n",
      "y_train.shape: (1036, 1)\n",
      "y_val.shape: (346, 1)\n",
      "y_test.shape: (346, 1)\n"
     ]
    }
   ],
   "source": [
    "X_train, X_val, X_test, y_train, y_val, y_test = get_data()\n",
    "print(\"X_train.shape:\", X_train.shape)\n",
    "print(\"X_val.shape:\", X_val.shape)\n",
    "print(\"X_test.shape:\", X_test.shape)\n",
    "print(\"y_train.shape:\", y_train.shape)\n",
    "print(\"y_val.shape:\", y_val.shape)\n",
    "print(\"y_test.shape:\", y_test.shape)\n"
   ]
  },
  {
   "cell_type": "code",
   "execution_count": 81,
   "metadata": {},
   "outputs": [
    {
     "data": {
      "text/html": [
       "<div>\n",
       "<style scoped>\n",
       "    .dataframe tbody tr th:only-of-type {\n",
       "        vertical-align: middle;\n",
       "    }\n",
       "\n",
       "    .dataframe tbody tr th {\n",
       "        vertical-align: top;\n",
       "    }\n",
       "\n",
       "    .dataframe thead th {\n",
       "        text-align: right;\n",
       "    }\n",
       "</style>\n",
       "<table border=\"1\" class=\"dataframe\">\n",
       "  <thead>\n",
       "    <tr style=\"text-align: right;\">\n",
       "      <th></th>\n",
       "      <th>price</th>\n",
       "      <th>maint</th>\n",
       "      <th>doors</th>\n",
       "      <th>persons</th>\n",
       "      <th>lug_capacity</th>\n",
       "      <th>safety</th>\n",
       "    </tr>\n",
       "  </thead>\n",
       "  <tbody>\n",
       "    <tr>\n",
       "      <th>901</th>\n",
       "      <td>med</td>\n",
       "      <td>vhigh</td>\n",
       "      <td>3</td>\n",
       "      <td>4</td>\n",
       "      <td>small</td>\n",
       "      <td>med</td>\n",
       "    </tr>\n",
       "    <tr>\n",
       "      <th>997</th>\n",
       "      <td>med</td>\n",
       "      <td>high</td>\n",
       "      <td>2</td>\n",
       "      <td>more</td>\n",
       "      <td>big</td>\n",
       "      <td>med</td>\n",
       "    </tr>\n",
       "    <tr>\n",
       "      <th>1152</th>\n",
       "      <td>med</td>\n",
       "      <td>med</td>\n",
       "      <td>4</td>\n",
       "      <td>more</td>\n",
       "      <td>small</td>\n",
       "      <td>low</td>\n",
       "    </tr>\n",
       "    <tr>\n",
       "      <th>1665</th>\n",
       "      <td>low</td>\n",
       "      <td>low</td>\n",
       "      <td>3</td>\n",
       "      <td>more</td>\n",
       "      <td>small</td>\n",
       "      <td>low</td>\n",
       "    </tr>\n",
       "    <tr>\n",
       "      <th>1644</th>\n",
       "      <td>low</td>\n",
       "      <td>low</td>\n",
       "      <td>2</td>\n",
       "      <td>more</td>\n",
       "      <td>big</td>\n",
       "      <td>low</td>\n",
       "    </tr>\n",
       "    <tr>\n",
       "      <th>...</th>\n",
       "      <td>...</td>\n",
       "      <td>...</td>\n",
       "      <td>...</td>\n",
       "      <td>...</td>\n",
       "      <td>...</td>\n",
       "      <td>...</td>\n",
       "    </tr>\n",
       "    <tr>\n",
       "      <th>138</th>\n",
       "      <td>vhigh</td>\n",
       "      <td>high</td>\n",
       "      <td>3</td>\n",
       "      <td>2</td>\n",
       "      <td>med</td>\n",
       "      <td>low</td>\n",
       "    </tr>\n",
       "    <tr>\n",
       "      <th>1193</th>\n",
       "      <td>med</td>\n",
       "      <td>low</td>\n",
       "      <td>2</td>\n",
       "      <td>2</td>\n",
       "      <td>med</td>\n",
       "      <td>high</td>\n",
       "    </tr>\n",
       "    <tr>\n",
       "      <th>136</th>\n",
       "      <td>vhigh</td>\n",
       "      <td>high</td>\n",
       "      <td>3</td>\n",
       "      <td>2</td>\n",
       "      <td>small</td>\n",
       "      <td>med</td>\n",
       "    </tr>\n",
       "    <tr>\n",
       "      <th>441</th>\n",
       "      <td>high</td>\n",
       "      <td>vhigh</td>\n",
       "      <td>2</td>\n",
       "      <td>4</td>\n",
       "      <td>small</td>\n",
       "      <td>low</td>\n",
       "    </tr>\n",
       "    <tr>\n",
       "      <th>748</th>\n",
       "      <td>high</td>\n",
       "      <td>med</td>\n",
       "      <td>5more</td>\n",
       "      <td>more</td>\n",
       "      <td>small</td>\n",
       "      <td>med</td>\n",
       "    </tr>\n",
       "  </tbody>\n",
       "</table>\n",
       "<p>1036 rows × 6 columns</p>\n",
       "</div>"
      ],
      "text/plain": [
       "      price  maint  doors persons lug_capacity safety\n",
       "901     med  vhigh      3       4        small    med\n",
       "997     med   high      2    more          big    med\n",
       "1152    med    med      4    more        small    low\n",
       "1665    low    low      3    more        small    low\n",
       "1644    low    low      2    more          big    low\n",
       "...     ...    ...    ...     ...          ...    ...\n",
       "138   vhigh   high      3       2          med    low\n",
       "1193    med    low      2       2          med   high\n",
       "136   vhigh   high      3       2        small    med\n",
       "441    high  vhigh      2       4        small    low\n",
       "748    high    med  5more    more        small    med\n",
       "\n",
       "[1036 rows x 6 columns]"
      ]
     },
     "execution_count": 81,
     "metadata": {},
     "output_type": "execute_result"
    }
   ],
   "source": [
    "X_train\n"
   ]
  },
  {
   "cell_type": "code",
   "execution_count": 82,
   "metadata": {},
   "outputs": [
    {
     "data": {
      "text/html": [
       "<div>\n",
       "<style scoped>\n",
       "    .dataframe tbody tr th:only-of-type {\n",
       "        vertical-align: middle;\n",
       "    }\n",
       "\n",
       "    .dataframe tbody tr th {\n",
       "        vertical-align: top;\n",
       "    }\n",
       "\n",
       "    .dataframe thead th {\n",
       "        text-align: right;\n",
       "    }\n",
       "</style>\n",
       "<table border=\"1\" class=\"dataframe\">\n",
       "  <thead>\n",
       "    <tr style=\"text-align: right;\">\n",
       "      <th></th>\n",
       "      <th>output</th>\n",
       "    </tr>\n",
       "  </thead>\n",
       "  <tbody>\n",
       "    <tr>\n",
       "      <th>901</th>\n",
       "      <td>unacc</td>\n",
       "    </tr>\n",
       "    <tr>\n",
       "      <th>997</th>\n",
       "      <td>acc</td>\n",
       "    </tr>\n",
       "    <tr>\n",
       "      <th>1152</th>\n",
       "      <td>unacc</td>\n",
       "    </tr>\n",
       "    <tr>\n",
       "      <th>1665</th>\n",
       "      <td>unacc</td>\n",
       "    </tr>\n",
       "    <tr>\n",
       "      <th>1644</th>\n",
       "      <td>unacc</td>\n",
       "    </tr>\n",
       "    <tr>\n",
       "      <th>...</th>\n",
       "      <td>...</td>\n",
       "    </tr>\n",
       "    <tr>\n",
       "      <th>138</th>\n",
       "      <td>unacc</td>\n",
       "    </tr>\n",
       "    <tr>\n",
       "      <th>1193</th>\n",
       "      <td>unacc</td>\n",
       "    </tr>\n",
       "    <tr>\n",
       "      <th>136</th>\n",
       "      <td>unacc</td>\n",
       "    </tr>\n",
       "    <tr>\n",
       "      <th>441</th>\n",
       "      <td>unacc</td>\n",
       "    </tr>\n",
       "    <tr>\n",
       "      <th>748</th>\n",
       "      <td>unacc</td>\n",
       "    </tr>\n",
       "  </tbody>\n",
       "</table>\n",
       "<p>1036 rows × 1 columns</p>\n",
       "</div>"
      ],
      "text/plain": [
       "     output\n",
       "901   unacc\n",
       "997     acc\n",
       "1152  unacc\n",
       "1665  unacc\n",
       "1644  unacc\n",
       "...     ...\n",
       "138   unacc\n",
       "1193  unacc\n",
       "136   unacc\n",
       "441   unacc\n",
       "748   unacc\n",
       "\n",
       "[1036 rows x 1 columns]"
      ]
     },
     "execution_count": 82,
     "metadata": {},
     "output_type": "execute_result"
    }
   ],
   "source": [
    "y_train\n"
   ]
  },
  {
   "cell_type": "markdown",
   "metadata": {},
   "source": [
    "train set의 `output`을 그래프로 확인한다.  \n",
    "`output`은 카테고리 데이터로, `unacc`, `acc`, `good`, `vgood` 중 한 가지 값으로 구성된다.  \n",
    "다른 값에 비해 `good`와 `vgood`가 비중이 매우 적음을 알 수 있다.\n"
   ]
  },
  {
   "cell_type": "code",
   "execution_count": 83,
   "metadata": {},
   "outputs": [
    {
     "data": {
      "text/plain": [
       "<AxesSubplot:ylabel='None'>"
      ]
     },
     "execution_count": 83,
     "metadata": {},
     "output_type": "execute_result"
    },
    {
     "data": {
      "image/png": "[encoded data removed]",
      "text/plain": [
       "<Figure size 640x480 with 1 Axes>"
      ]
     },
     "metadata": {},
     "output_type": "display_data"
    }
   ],
   "source": [
    "import matplotlib.pyplot as plt\n",
    "\n",
    "y_train.value_counts().plot(\n",
    "    kind=\"pie\",\n",
    "    autopct=\"%0.05f%%\",\n",
    "    colors=[\"lightblue\", \"lightgreen\", \"orange\", \"pink\"],\n",
    "    explode=(0.05, 0.05, 0.05, 0.05),\n",
    ")\n"
   ]
  },
  {
   "cell_type": "markdown",
   "metadata": {},
   "source": [
    "주어진 데이터는 모두 카테고리 데이터로 구성되어 있다.  \n",
    "따라서 `sklearn`의 `OneHotEncoder`로 카테고리 데이터를 one-hot-encoded vector로 변환한다.  \n",
    "데이터가 너무 가벼워서 gpu가 아닌 cpu 환경에서 학습하도록 한다."
   ]
  },
  {
   "cell_type": "code",
   "execution_count": 84,
   "metadata": {},
   "outputs": [
    {
     "name": "stdout",
     "output_type": "stream",
     "text": [
      "X_columns: ['price_high' 'price_low' 'price_med' 'price_vhigh' 'maint_high'\n",
      " 'maint_low' 'maint_med' 'maint_vhigh' 'doors_2' 'doors_3' 'doors_4'\n",
      " 'doors_5more' 'persons_2' 'persons_4' 'persons_more' 'lug_capacity_big'\n",
      " 'lug_capacity_med' 'lug_capacity_small' 'safety_high' 'safety_low'\n",
      " 'safety_med']\n",
      "X_cat_train.shape: torch.Size([1036, 21])\n"
     ]
    },
    {
     "data": {
      "text/plain": [
       "tensor([[0., 0., 1., 0., 0., 0., 0., 1., 0., 1., 0., 0., 0., 1., 0., 0., 0., 1.,\n",
       "         0., 0., 1.],\n",
       "        [0., 0., 1., 0., 1., 0., 0., 0., 1., 0., 0., 0., 0., 0., 1., 1., 0., 0.,\n",
       "         0., 0., 1.],\n",
       "        [0., 0., 1., 0., 0., 0., 1., 0., 0., 0., 1., 0., 0., 0., 1., 0., 0., 1.,\n",
       "         0., 1., 0.],\n",
       "        [0., 1., 0., 0., 0., 1., 0., 0., 0., 1., 0., 0., 0., 0., 1., 0., 0., 1.,\n",
       "         0., 1., 0.],\n",
       "        [0., 1., 0., 0., 0., 1., 0., 0., 1., 0., 0., 0., 0., 0., 1., 1., 0., 0.,\n",
       "         0., 1., 0.]])"
      ]
     },
     "execution_count": 84,
     "metadata": {},
     "output_type": "execute_result"
    }
   ],
   "source": [
    "from sklearn.preprocessing import OneHotEncoder\n",
    "\n",
    "x_encoder = OneHotEncoder(sparse=False)\n",
    "\n",
    "X_cat_train = x_encoder.fit_transform(X_train)\n",
    "X_cat_train = torch.tensor(X_cat_train, dtype=torch.float)\n",
    "print(\"X_columns:\", x_encoder.get_feature_names_out())\n",
    "print(\"X_cat_train.shape:\",X_cat_train.shape)\n",
    "X_cat_train[:5, :]\n"
   ]
  },
  {
   "cell_type": "code",
   "execution_count": 85,
   "metadata": {},
   "outputs": [
    {
     "name": "stdout",
     "output_type": "stream",
     "text": [
      "y_columns: ['output_acc' 'output_good' 'output_unacc' 'output_vgood']\n",
      "y_cat_train.shape: torch.Size([1036, 4])\n"
     ]
    },
    {
     "data": {
      "text/plain": [
       "tensor([[0., 0., 1., 0.],\n",
       "        [1., 0., 0., 0.],\n",
       "        [0., 0., 1., 0.],\n",
       "        [0., 0., 1., 0.],\n",
       "        [0., 0., 1., 0.]])"
      ]
     },
     "execution_count": 85,
     "metadata": {},
     "output_type": "execute_result"
    }
   ],
   "source": [
    "y_encoder = OneHotEncoder(sparse=False)\n",
    "y_cat_train = y_encoder.fit_transform(y_train)\n",
    "y_cat_train = torch.tensor(y_cat_train, dtype=torch.float)\n",
    "print(\"y_columns:\", y_encoder.get_feature_names_out())\n",
    "print(\"y_cat_train.shape:\",y_cat_train.shape)\n",
    "y_cat_train[:5]\n"
   ]
  },
  {
   "cell_type": "markdown",
   "metadata": {},
   "source": [
    "간단한 neural network 모델을 만든다.  \n",
    "`Linear`, `ReLU`, `BatchNorm1d`, `Dropout`로 구성된 FC 레이어가 반복하는 구조이다.  \n",
    "마지막에 `Linear`, `Softmax`로 `output`을 predict한다.  \n",
    "이 레이어들을 `Sequential`로 묶어준다."
   ]
  },
  {
   "cell_type": "code",
   "execution_count": 105,
   "metadata": {},
   "outputs": [
    {
     "data": {
      "text/plain": [
       "MyModel(\n",
       "  (layers): Sequential(\n",
       "    (0): Linear(in_features=21, out_features=256, bias=True)\n",
       "    (1): ReLU(inplace=True)\n",
       "    (2): BatchNorm1d(256, eps=1e-05, momentum=0.1, affine=True, track_running_stats=True)\n",
       "    (3): Dropout(p=0.5, inplace=False)\n",
       "    (4): Linear(in_features=256, out_features=128, bias=True)\n",
       "    (5): ReLU(inplace=True)\n",
       "    (6): BatchNorm1d(128, eps=1e-05, momentum=0.1, affine=True, track_running_stats=True)\n",
       "    (7): Dropout(p=0.5, inplace=False)\n",
       "    (8): Linear(in_features=128, out_features=64, bias=True)\n",
       "    (9): ReLU(inplace=True)\n",
       "    (10): BatchNorm1d(64, eps=1e-05, momentum=0.1, affine=True, track_running_stats=True)\n",
       "    (11): Dropout(p=0.5, inplace=False)\n",
       "    (12): Linear(in_features=64, out_features=4, bias=True)\n",
       "    (13): Softmax(dim=-1)\n",
       "  )\n",
       ")"
      ]
     },
     "execution_count": 105,
     "metadata": {},
     "output_type": "execute_result"
    }
   ],
   "source": [
    "from torch import nn\n",
    "\n",
    "\n",
    "class MyModel(nn.Module):\n",
    "    def __init__(self, input_size, output_size, hidden_layers, dropout=0.5) -> None:\n",
    "        super().__init__()\n",
    "\n",
    "        all_layers = []\n",
    "        for hidden_size in hidden_layers:\n",
    "            all_layers.append(nn.Linear(input_size, hidden_size))\n",
    "            all_layers.append(nn.ReLU(inplace=True))\n",
    "            all_layers.append(nn.BatchNorm1d(hidden_size))\n",
    "            all_layers.append(nn.Dropout(dropout))\n",
    "            input_size = hidden_size\n",
    "        all_layers.append(nn.Linear(hidden_layers[-1], output_size))\n",
    "        all_layers.append(nn.Softmax(-1))\n",
    "        self.layers = nn.Sequential(*all_layers)\n",
    "\n",
    "    def forward(self, x: torch.Tensor):\n",
    "        x = self.layers(x)\n",
    "        return x\n",
    "\n",
    "\n",
    "model = MyModel(X_cat_train.shape[1], y_cat_train.shape[1], [256, 128, 64])\n",
    "model\n"
   ]
  },
  {
   "cell_type": "markdown",
   "metadata": {},
   "source": [
    "`output`의 클래스가 balance하지 않으므로 loss function에 가중치를 준다.\n",
    "$$w_i=\\frac {l(i)} {\\sum_{k=1}^{n}{l(k)}}$$\n",
    "이 때 $w$는 loss weight, $n$은 `output` 클래스의 개수이고, 함수 $l(i)$은 $i$번째 클래스의 데이터 개수이다.\n",
    "\n",
    "loss function은 `CrossEntropyLoss`를, optimizer은 `Adam`을 사용한다."
   ]
  },
  {
   "cell_type": "code",
   "execution_count": 106,
   "metadata": {},
   "outputs": [
    {
     "name": "stdout",
     "output_type": "stream",
     "text": [
      "loss weight: tensor([ 4.4464, 25.9000,  1.4038, 41.4400])\n"
     ]
    }
   ],
   "source": [
    "def get_loss_weight():\n",
    "    lens = torch.tensor(\n",
    "        [y_cat_train[:, i].count_nonzero() for i in range(y_cat_train.shape[1])]\n",
    "    )\n",
    "    total = sum(lens)\n",
    "    return total / lens\n",
    "\n",
    "\n",
    "print(\"loss weight:\", get_loss_weight())\n",
    "\n",
    "loss_function = nn.CrossEntropyLoss(weight=get_loss_weight())\n",
    "optimizer = torch.optim.Adam(model.parameters(), lr=0.001)\n"
   ]
  },
  {
   "cell_type": "markdown",
   "metadata": {},
   "source": [
    "`epoch`를 1000으로 모델을 학습한다."
   ]
  },
  {
   "cell_type": "code",
   "execution_count": 107,
   "metadata": {},
   "outputs": [
    {
     "name": "stdout",
     "output_type": "stream",
     "text": [
      "epoch:    1 train loss: 5.66163826\n",
      "              val loss: 8.03125572\n",
      "epoch:  100 train loss: 3.55128598\n",
      "              val loss: 4.75989771\n",
      "epoch:  200 train loss: 3.14490986\n",
      "              val loss: 4.50574589\n",
      "epoch:  300 train loss: 3.08001161\n",
      "              val loss: 4.46144676\n",
      "epoch:  400 train loss: 3.07377911\n",
      "              val loss: 4.44411087\n",
      "epoch:  500 train loss: 3.02204418\n",
      "              val loss: 4.43415451\n",
      "epoch:  600 train loss: 2.99573326\n",
      "              val loss: 4.52239799\n",
      "epoch:  700 train loss: 3.00142241\n",
      "              val loss: 4.43792009\n",
      "epoch:  800 train loss: 2.99316144\n",
      "              val loss: 4.52464199\n",
      "epoch:  900 train loss: 3.01439071\n",
      "              val loss: 4.56864929\n",
      "epoch: 1000 train loss: 2.98616767\n",
      "              val loss: 4.55883837\n"
     ]
    }
   ],
   "source": [
    "def train_model(\n",
    "    model,\n",
    "    train_data,\n",
    "    train_output,\n",
    "    val_data,\n",
    "    val_output,\n",
    "    optimizer,\n",
    "    loss_function,\n",
    "    epoch=1000,\n",
    "):\n",
    "    aggregated_train_losses = []\n",
    "    aggregated_val_losses = []\n",
    "    for i in range(1, epoch + 1):\n",
    "        model.train()\n",
    "        preds = model(train_data)\n",
    "        loss = loss_function(preds, train_output)\n",
    "        aggregated_train_losses.append(loss.item())\n",
    "        if i % 100 == 0 or i == 1:\n",
    "            print(f\"epoch: {i:4} train loss: {loss.item():10.8f}\")\n",
    "        optimizer.zero_grad()\n",
    "        loss.backward()\n",
    "        optimizer.step()\n",
    "        with torch.no_grad():\n",
    "            model.eval()\n",
    "            preds = model(val_data)\n",
    "            loss = loss_function(preds, val_output)\n",
    "            if i % 100 == 0 or i == 1:\n",
    "                print(f\"              val loss: {loss.item():10.8f}\")\n",
    "            aggregated_val_losses.append(loss.item())\n",
    "    return aggregated_train_losses, aggregated_val_losses\n",
    "    \n",
    "\n",
    "X_cat_val = x_encoder.transform(X_val)\n",
    "X_cat_val = torch.tensor(X_cat_val, dtype=torch.float)\n",
    "y_cat_val = y_encoder.transform(y_val)\n",
    "y_cat_val = torch.tensor(y_cat_val, dtype=torch.float)\n",
    "train_losses, val_losses = train_model(model, X_cat_train, y_cat_train, X_cat_val, y_cat_val, optimizer, loss_function)"
   ]
  },
  {
   "cell_type": "code",
   "execution_count": 108,
   "metadata": {},
   "outputs": [
    {
     "data": {
      "image/png": "[encoded data removed]",
      "text/plain": [
       "<Figure size 640x480 with 1 Axes>"
      ]
     },
     "metadata": {},
     "output_type": "display_data"
    }
   ],
   "source": [
    "x_range = range(1, len(train_losses) + 1)\n",
    "plt.plot(x_range, train_losses, label=\"train loss\")\n",
    "plt.plot(x_range, val_losses, label=\"validation loss\")\n",
    "plt.xlabel(\"epoch\")\n",
    "plt.ylabel(\"loss\")\n",
    "plt.legend()\n",
    "plt.show()"
   ]
  },
  {
   "cell_type": "markdown",
   "metadata": {},
   "source": [
    "모델 성능을 평가하기 위해 `sklearn`의 `classification_report`로 확인한 결과,  \n",
    "각 클래스에 대한 f1-score가 모두 0.95 이상이다."
   ]
  },
  {
   "cell_type": "code",
   "execution_count": 109,
   "metadata": {},
   "outputs": [
    {
     "name": "stdout",
     "output_type": "stream",
     "text": [
      "              precision    recall  f1-score   support\n",
      "\n",
      "  output_acc     0.9643    1.0000    0.9818        81\n",
      " output_good     0.9333    1.0000    0.9655        14\n",
      "output_unacc     1.0000    0.9956    0.9978       228\n",
      "output_vgood     1.0000    0.8696    0.9302        23\n",
      "\n",
      "    accuracy                         0.9884       346\n",
      "   macro avg     0.9744    0.9663    0.9688       346\n",
      "weighted avg     0.9889    0.9884    0.9883       346\n",
      "\n"
     ]
    }
   ],
   "source": [
    "from sklearn.metrics import classification_report, accuracy_score\n",
    "\n",
    "\n",
    "with torch.no_grad():\n",
    "    model.eval()\n",
    "    X_cat_val = x_encoder.transform(X_val)\n",
    "    X_cat_val = torch.tensor(X_cat_val, dtype=torch.float)\n",
    "    preds = model(X_cat_val)\n",
    "    y_cat_val = y_encoder.transform(y_val)\n",
    "    y_cat_val = torch.tensor(y_cat_val, dtype=torch.float)\n",
    "    print(\n",
    "        classification_report(\n",
    "            y_cat_val.argmax(-1),\n",
    "            preds.cpu().argmax(-1),\n",
    "            target_names=y_encoder.get_feature_names_out(),\n",
    "            digits=4,\n",
    "        )\n",
    "    )\n"
   ]
  },
  {
   "cell_type": "code",
   "execution_count": 110,
   "metadata": {},
   "outputs": [
    {
     "name": "stdout",
     "output_type": "stream",
     "text": [
      "              precision    recall  f1-score   support\n",
      "\n",
      "  output_acc     0.9333    1.0000    0.9655        70\n",
      " output_good     1.0000    1.0000    1.0000        15\n",
      "output_unacc     1.0000    0.9918    0.9959       244\n",
      "output_vgood     1.0000    0.8235    0.9032        17\n",
      "\n",
      "    accuracy                         0.9855       346\n",
      "   macro avg     0.9833    0.9538    0.9662       346\n",
      "weighted avg     0.9865    0.9855    0.9854       346\n",
      "\n"
     ]
    }
   ],
   "source": [
    "from sklearn.metrics import classification_report, accuracy_score\n",
    "\n",
    "\n",
    "with torch.no_grad():\n",
    "    model.eval()\n",
    "    X_cat_val = x_encoder.transform(X_test)\n",
    "    X_cat_val = torch.tensor(X_cat_val, dtype=torch.float)\n",
    "    preds = model(X_cat_val)\n",
    "    y_cat_val = y_encoder.transform(y_test)\n",
    "    y_cat_val = torch.tensor(y_cat_val, dtype=torch.float)\n",
    "    print(\n",
    "        classification_report(\n",
    "            y_cat_val.argmax(-1),\n",
    "            preds.cpu().argmax(-1),\n",
    "            target_names=y_encoder.get_feature_names_out(),\n",
    "            digits=4,\n",
    "        )\n",
    "    )\n"
   ]
  }
 ],
 "metadata": {
  "kernelspec": {
   "display_name": "Python 3.9.13 ('pytorch')",
   "language": "python",
   "name": "python3"
  },
  "language_info": {
   "codemirror_mode": {
    "name": "ipython",
    "version": 3
   },
   "file_extension": ".py",
   "mimetype": "text/x-python",
   "name": "python",
   "nbconvert_exporter": "python",
   "pygments_lexer": "ipython3",
   "version": "3.9.13"
  },
  "orig_nbformat": 4,
  "vscode": {
   "interpreter": {
    "hash": "9e8b8adcd60e3125d3846633b1286e68149d6edb0e860e6f97e15020191dc869"
   }
  }
 },
 "nbformat": 4,
 "nbformat_minor": 2
}
