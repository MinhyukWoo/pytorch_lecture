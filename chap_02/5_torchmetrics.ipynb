{
 "cells": [
  {
   "cell_type": "code",
   "execution_count": 17,
   "metadata": {},
   "outputs": [
    {
     "name": "stdout",
     "output_type": "stream",
     "text": [
      "tensor([[0.2103, 0.0200, 0.1270, 0.1446, 0.4981],\n",
      "        [0.1601, 0.3699, 0.1267, 0.1096, 0.2337],\n",
      "        [0.1249, 0.1204, 0.1019, 0.1195, 0.5333],\n",
      "        [0.1589, 0.3169, 0.0819, 0.0777, 0.3645],\n",
      "        [0.0861, 0.0949, 0.3386, 0.0364, 0.4440],\n",
      "        [0.0505, 0.3946, 0.2221, 0.2868, 0.0459],\n",
      "        [0.4257, 0.0354, 0.0135, 0.2794, 0.2460],\n",
      "        [0.2575, 0.0848, 0.0102, 0.5704, 0.0770],\n",
      "        [0.6122, 0.1090, 0.0531, 0.1662, 0.0595],\n",
      "        [0.0767, 0.1185, 0.2399, 0.4363, 0.1286]])\n",
      "tensor([4, 3, 1, 1, 3, 0, 3, 3, 3, 4])\n",
      "tensor(2)\n",
      "tensor(0.2000)\n"
     ]
    }
   ],
   "source": [
    "import torch\n",
    "import torchmetrics\n",
    "\n",
    "preds = torch.randn(10, 5).softmax(dim=-1)\n",
    "target = torch.randint(5, (10,))\n",
    "print(preds)\n",
    "print(target)\n",
    "acc = torchmetrics.functional.accuracy(preds, target)\n",
    "print((preds.argmax(dim=-1) == target).count_nonzero())\n",
    "print(acc)"
   ]
  },
  {
   "cell_type": "code",
   "execution_count": 16,
   "metadata": {},
   "outputs": [
    {
     "name": "stdout",
     "output_type": "stream",
     "text": [
      "tensor([[0.1958, 0.2141, 0.0589, 0.4709, 0.0602],\n",
      "        [0.0354, 0.3084, 0.2328, 0.1448, 0.2786],\n",
      "        [0.0598, 0.6896, 0.0869, 0.1005, 0.0632],\n",
      "        [0.0529, 0.0707, 0.5418, 0.2843, 0.0503],\n",
      "        [0.0548, 0.0789, 0.0979, 0.7514, 0.0170],\n",
      "        [0.0786, 0.5730, 0.0529, 0.0933, 0.2022],\n",
      "        [0.0926, 0.2900, 0.2145, 0.1501, 0.2528],\n",
      "        [0.0328, 0.0804, 0.4965, 0.2499, 0.1403],\n",
      "        [0.0890, 0.0431, 0.4447, 0.3233, 0.0999],\n",
      "        [0.3741, 0.2997, 0.1099, 0.1836, 0.0327]])\n",
      "tensor([4, 2, 1, 1, 4, 0, 1, 0, 4, 0])\n",
      "tensor(3)\n",
      "tensor(0.3000)\n"
     ]
    }
   ],
   "source": [
    "metric = torchmetrics.Accuracy()\n",
    "\n",
    "preds = torch.randn(10, 5).softmax(dim=-1)\n",
    "target = torch.randint(5, (10,))\n",
    "acc = metric(preds, target)\n",
    "print(preds)\n",
    "print(target)\n",
    "print((preds.argmax(dim=-1) == target).count_nonzero())\n",
    "print(acc)"
   ]
  },
  {
   "cell_type": "code",
   "execution_count": null,
   "metadata": {},
   "outputs": [],
   "source": []
  }
 ],
 "metadata": {
  "kernelspec": {
   "display_name": "Python 3.9.13 ('pytorch')",
   "language": "python",
   "name": "python3"
  },
  "language_info": {
   "codemirror_mode": {
    "name": "ipython",
    "version": 3
   },
   "file_extension": ".py",
   "mimetype": "text/x-python",
   "name": "python",
   "nbconvert_exporter": "python",
   "pygments_lexer": "ipython3",
   "version": "3.9.13"
  },
  "orig_nbformat": 4,
  "vscode": {
   "interpreter": {
    "hash": "a2cfc9f92384bea4421cae4ab88ec24798f65a1c0d1ec40acf609fab130197c5"
   }
  }
 },
 "nbformat": 4,
 "nbformat_minor": 2
}
